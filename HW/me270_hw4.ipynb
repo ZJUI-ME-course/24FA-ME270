{
 "cells": [
  {
   "cell_type": "code",
   "execution_count": 11,
   "metadata": {},
   "outputs": [
    {
     "name": "stdout",
     "output_type": "stream",
     "text": [
      "13.549661016949154 1.3277095982431213\n"
     ]
    }
   ],
   "source": [
    "Vm=0.290\n",
    "Vr=0.300\n",
    "Em=0.67 #记得转换单位\n",
    "Er=26\n",
    "\n",
    "\n",
    "fr=Vr/(Vr+Vm)\n",
    "fm=Vm/(Vr+Vm)\n",
    "Ec=fr*Er+fm*Em\n",
    "Ec2=Em*Er/(fr*Em+fm*Er)\n",
    "print(Ec,Ec2)\n"
   ]
  },
  {
   "cell_type": "code",
   "execution_count": 12,
   "metadata": {},
   "outputs": [
    {
     "name": "stdout",
     "output_type": "stream",
     "text": [
      "47.09409836065574 1.3878414035332969\n"
     ]
    }
   ],
   "source": [
    "mm=0.9\n",
    "roum=1\n",
    "Em=0.62\n",
    "\n",
    "mr=1.7\n",
    "rour=1.5\n",
    "Er=84\n",
    "\n",
    "Vm=mm/roum\n",
    "Vr=mr/rour\n",
    "fm=Vm/(Vr+Vm)\n",
    "fr=Vr/(Vr+Vm)\n",
    "\n",
    "Ec=fm*Em+fr*Er\n",
    "Ec2=Em*Er/(Em*fr+Er*fm)\n",
    "\n",
    "print(Ec,Ec2)"
   ]
  }
 ],
 "metadata": {
  "kernelspec": {
   "display_name": "Python 3",
   "language": "python",
   "name": "python3"
  },
  "language_info": {
   "codemirror_mode": {
    "name": "ipython",
    "version": 3
   },
   "file_extension": ".py",
   "mimetype": "text/x-python",
   "name": "python",
   "nbconvert_exporter": "python",
   "pygments_lexer": "ipython3",
   "version": "3.12.6"
  }
 },
 "nbformat": 4,
 "nbformat_minor": 2
}
