{
 "cells": [
  {
   "cell_type": "code",
   "execution_count": 18,
   "metadata": {},
   "outputs": [
    {
     "data": {
      "text/plain": [
       "137.73209876543208"
      ]
     },
     "execution_count": 18,
     "metadata": {},
     "output_type": "execute_result"
    }
   ],
   "source": [
    "#8\n",
    "l1=8\n",
    "h1=8\n",
    "l2=7\n",
    "h2=7\n",
    "D=0.8/10 #mm->cm\n",
    "tall=0.5/10 #mm->cm\n",
    "V=4.5 #cm/sec\n",
    "t1=0.8\n",
    "t2=4\n",
    "fill_ratio = 0.7\n",
    "\n",
    "\n",
    "\n",
    "q=D*tall*V\n",
    "v1=l1**2*h1/3-l2**2*h2/3 #cm**2\n",
    "v2=l2**2*h2/3\n",
    "\n",
    "T1=v1/q+h1/tall*t1\n",
    "T2=fill_ratio*v2/q+h2/tall*t2\n",
    "(T1+T2)/60"
   ]
  },
  {
   "cell_type": "code",
   "execution_count": 22,
   "metadata": {},
   "outputs": [
    {
     "name": "stdout",
     "output_type": "stream",
     "text": [
      "219.24956271367816\n"
     ]
    }
   ],
   "source": [
    "# 9\n",
    "from math import pi\n",
    "tall=0.4/10\n",
    "D=0.9/10\n",
    "V=3.5\n",
    "d= 6 #cm\n",
    "t1=0.9\n",
    "t2=8\n",
    "\n",
    "\n",
    "# fill_ratio=1\n",
    "q=D*tall*V\n",
    "v1=4/3*(d/2)**3*np.pi\n",
    "v2=((d/2)**3*np.pi-2/3*(d/2)**3*np.pi)\n",
    "\n",
    "\n",
    "T1=v1/q+d/tall*(t1+t2)\n",
    "T2=v2/q+(d/2)/tall*t2\n",
    "T=T1+T2\n",
    "print(T/60)\n"
   ]
  }
 ],
 "metadata": {
  "kernelspec": {
   "display_name": "Python 3",
   "language": "python",
   "name": "python3"
  },
  "language_info": {
   "codemirror_mode": {
    "name": "ipython",
    "version": 3
   },
   "file_extension": ".py",
   "mimetype": "text/x-python",
   "name": "python",
   "nbconvert_exporter": "python",
   "pygments_lexer": "ipython3",
   "version": "3.12.6"
  }
 },
 "nbformat": 4,
 "nbformat_minor": 2
}
