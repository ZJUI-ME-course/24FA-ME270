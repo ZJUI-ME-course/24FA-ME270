{
 "cells": [
  {
   "cell_type": "code",
   "execution_count": 22,
   "metadata": {},
   "outputs": [
    {
     "name": "stdout",
     "output_type": "stream",
     "text": [
      "80.10000000000001 81.7\n"
     ]
    }
   ],
   "source": [
    "# 5\n",
    "a=80.9\n",
    "b=80.4\n",
    "c=0.3\n",
    "\n",
    "ib=b-c\n",
    "ob=a+c+(a-b)\n",
    "print(ib,ob)"
   ]
  },
  {
   "cell_type": "code",
   "execution_count": 21,
   "metadata": {},
   "outputs": [
    {
     "name": "stdout",
     "output_type": "stream",
     "text": [
      "34.7 33.5\n"
     ]
    }
   ],
   "source": [
    "# 6\n",
    "a=34.5\n",
    "b=34.1\n",
    "c=0.2\n",
    "\n",
    "\n",
    "\n",
    "vc=a+c\n",
    "rc=b-c-(a-b)\n",
    "print(vc,rc)"
   ]
  },
  {
   "cell_type": "code",
   "execution_count": 17,
   "metadata": {},
   "outputs": [
    {
     "name": "stdout",
     "output_type": "stream",
     "text": [
      "0.8000000000000043\n"
     ]
    }
   ],
   "source": [
    "# 7\n",
    "a=47.7\n",
    "b=47\n",
    "c=0.6\n",
    "d=47.5\n",
    "\n",
    "tolerance=c+a-d\n",
    "print(tolerance)\n"
   ]
  },
  {
   "cell_type": "code",
   "execution_count": 16,
   "metadata": {},
   "outputs": [
    {
     "name": "stdout",
     "output_type": "stream",
     "text": [
      "0.49999999999999856\n"
     ]
    }
   ],
   "source": [
    "# 8\n",
    "\n",
    "a=39\n",
    "b=38\n",
    "c=0.1\n",
    "d=38.4\n",
    "\n",
    "\n",
    "\n",
    "tolerance=d-b+c\n",
    "print(tolerance)"
   ]
  },
  {
   "cell_type": "code",
   "execution_count": 13,
   "metadata": {},
   "outputs": [
    {
     "name": "stdout",
     "output_type": "stream",
     "text": [
      "1.5\n"
     ]
    }
   ],
   "source": [
    "# 9\n",
    "d1=26.1\n",
    "d2=28.5\n",
    "\n",
    "pin1=31.7\n",
    "pin2=31\n",
    "pt=0.3\n",
    "\n",
    "\n",
    "hole1=34.5\n",
    "hole2=33.7\n",
    "ht=0.2\n",
    "\n",
    "ibhole=hole2-ht\n",
    "vcpin=pin1+pt\n",
    "\n",
    "clearance=ibhole-vcpin\n",
    "print(clearance)"
   ]
  },
  {
   "cell_type": "code",
   "execution_count": 12,
   "metadata": {},
   "outputs": [
    {
     "name": "stdout",
     "output_type": "stream",
     "text": [
      "11.5\n",
      "2.6\n",
      "11.5\n",
      "1.503329637837291\n",
      "上面这个必须转为一个小数位\n"
     ]
    }
   ],
   "source": [
    "# 13\n",
    "\n",
    "a1=3.9\n",
    "a2=0.9\n",
    "b1=3.9\n",
    "b2=0.8\n",
    "c1=3.7\n",
    "c2=0.9\n",
    "from math import sqrt\n",
    "print(a1+b1+c1)\n",
    "print(a2+b2+c2)\n",
    "print(a1+b1+c1)\n",
    "\n",
    "print(sqrt(a2**2+b2**2+c2**2))\n",
    "print('上面这个必须转为一个小数位')\n",
    "\n"
   ]
  }
 ],
 "metadata": {
  "kernelspec": {
   "display_name": "Python 3",
   "language": "python",
   "name": "python3"
  },
  "language_info": {
   "codemirror_mode": {
    "name": "ipython",
    "version": 3
   },
   "file_extension": ".py",
   "mimetype": "text/x-python",
   "name": "python",
   "nbconvert_exporter": "python",
   "pygments_lexer": "ipython3",
   "version": "3.12.6"
  }
 },
 "nbformat": 4,
 "nbformat_minor": 2
}
