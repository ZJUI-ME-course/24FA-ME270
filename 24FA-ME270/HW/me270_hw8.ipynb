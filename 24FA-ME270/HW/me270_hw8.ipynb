{
 "cells": [
  {
   "cell_type": "code",
   "execution_count": 23,
   "metadata": {},
   "outputs": [
    {
     "name": "stdout",
     "output_type": "stream",
     "text": [
      "98.89275612810572\n"
     ]
    }
   ],
   "source": [
    "# 1\n",
    "from math import pi\n",
    "\n",
    "t=24\n",
    "tc=0.24\n",
    "d=12\n",
    "p=1.75\n",
    "\n",
    "As=pi*0.25*(d-0.9382*p)**2\n",
    "sigma=t/tc/d*1000/As\n",
    "print(sigma)"
   ]
  },
  {
   "cell_type": "code",
   "execution_count": 3,
   "metadata": {},
   "outputs": [
    {
     "name": "stdout",
     "output_type": "stream",
     "text": [
      "81.6940159319134\n"
     ]
    }
   ],
   "source": [
    "# 1\n",
    "from math import pi\n",
    "d=12\n",
    "p=1.75\n",
    "t=19\n",
    "ct=0.23\n",
    "As=pi*0.25*(d-0.9382*p)**2\n",
    "\n",
    "sigma=t/ct/d/As*1000\n",
    "print(sigma)"
   ]
  },
  {
   "cell_type": "code",
   "execution_count": 2,
   "metadata": {},
   "outputs": [
    {
     "name": "stdout",
     "output_type": "stream",
     "text": [
      "20.5626939638022\n"
     ]
    }
   ],
   "source": [
    "# 2\n",
    "# T K F d\n",
    "\n",
    "from math import pi\n",
    "d=10\n",
    "p=1.25\n",
    "rate=0.2\n",
    "sigma=840\n",
    "sigmam=sigma*rate\n",
    "\n",
    "tc=0.2\n",
    "As=0.25*pi*(d-0.9382*p)**2\n",
    "f=sigmam*As\n",
    "\n",
    "# print(f)\n",
    "t=d*f*tc/1000\n",
    "\n",
    "\n",
    "print(t)"
   ]
  },
  {
   "cell_type": "code",
   "execution_count": null,
   "metadata": {},
   "outputs": [],
   "source": [
    "d=10\n",
    "p=1.25\n",
    "rate="
   ]
  }
 ],
 "metadata": {
  "kernelspec": {
   "display_name": "Python 3",
   "language": "python",
   "name": "python3"
  },
  "language_info": {
   "codemirror_mode": {
    "name": "ipython",
    "version": 3
   },
   "file_extension": ".py",
   "mimetype": "text/x-python",
   "name": "python",
   "nbconvert_exporter": "python",
   "pygments_lexer": "ipython3",
   "version": "3.12.6"
  }
 },
 "nbformat": 4,
 "nbformat_minor": 2
}
