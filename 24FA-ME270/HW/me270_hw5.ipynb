{
 "cells": [
  {
   "cell_type": "code",
   "execution_count": null,
   "metadata": {},
   "outputs": [
    {
     "name": "stdout",
     "output_type": "stream",
     "text": [
      "6.23926632595716\n"
     ]
    }
   ],
   "source": [
    "# 3\n",
    "V=900 #cm**3\n",
    "A=1060 #cm**2\n",
    "Cm=3.7 #min/cm**2\n",
    "n=2 #times\n",
    "beishu=1.5\n",
    "\n",
    "T=Cm*(V/A)**n\n",
    "Total=T*beishu\n",
    "\n",
    "\n",
    "# print(Total)\n",
    "from sympy import pi\n",
    "import sympy as s\n",
    "x=s.S('x')\n",
    "\n",
    "V2=pi*(x**2/2)*x\n",
    "A2=3*x**2*pi*(1/2)\n",
    "q1=Total-Cm*(V2/A2)**2\n",
    "x=s.solve([q1],[x])[1][0]\n",
    "print(2*x)\n",
    "\n",
    "\n",
    "\n",
    "\n",
    "\n",
    "\n"
   ]
  },
  {
   "cell_type": "code",
   "execution_count": 3,
   "metadata": {},
   "outputs": [
    {
     "name": "stdout",
     "output_type": "stream",
     "text": [
      "25\n",
      "15\n"
     ]
    }
   ],
   "source": [
    "# 9\n",
    "import math\n",
    "from math import pi\n",
    "d=7\n",
    "l=22\n",
    "rou_fluid=2.4\n",
    "rou_object=0.9\n",
    "F=0.5\n",
    "\n",
    "\n",
    "g=9.81\n",
    "V=pi*(d/2)**2*l\n",
    "\n",
    "\n",
    "n2=(rou_fluid-rou_object)*V*g/1000/F\n",
    "print(math.ceil(n2))\n",
    "\n",
    "F1=V*rou_object*g/1000\n",
    "n1=F1/F\n",
    "print(math.ceil(n1))"
   ]
  },
  {
   "cell_type": "code",
   "execution_count": 26,
   "metadata": {},
   "outputs": [
    {
     "name": "stdout",
     "output_type": "stream",
     "text": [
      "1.0\n"
     ]
    }
   ],
   "source": [
    "# 10\n",
    "import sympy as s\n",
    "\n",
    "density=3/6\n",
    "\n",
    "Df=1\n",
    "Dc=Df*density\n",
    "ratio=(Df-Dc)/Dc\n",
    "print(ratio)\n",
    "\n"
   ]
  }
 ],
 "metadata": {
  "kernelspec": {
   "display_name": "Python 3",
   "language": "python",
   "name": "python3"
  },
  "language_info": {
   "codemirror_mode": {
    "name": "ipython",
    "version": 3
   },
   "file_extension": ".py",
   "mimetype": "text/x-python",
   "name": "python",
   "nbconvert_exporter": "python",
   "pygments_lexer": "ipython3",
   "version": "3.12.6"
  }
 },
 "nbformat": 4,
 "nbformat_minor": 2
}
