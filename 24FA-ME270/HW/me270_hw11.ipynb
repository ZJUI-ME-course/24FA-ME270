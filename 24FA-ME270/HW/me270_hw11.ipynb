{
 "cells": [
  {
   "cell_type": "code",
   "execution_count": 22,
   "metadata": {},
   "outputs": [
    {
     "name": "stdout",
     "output_type": "stream",
     "text": [
      "1.7544600000000001\n",
      "85.52631578947368\n"
     ]
    }
   ],
   "source": [
    "# 1\n",
    "A=2000 #nm^2\n",
    "i=1900 #amps\n",
    "v=13 # volts\n",
    "rou=160 #ohm*mm\n",
    "\n",
    "\n",
    "c=3.42e-2 #nm^3/A*s\n",
    "n_efficiency=0.9\n",
    "\n",
    "\n",
    "_fr=n_efficiency*c*i/A #mm/s\n",
    "fr=_fr*60 # mm/min\n",
    "print(fr)\n",
    "# r=rou\n",
    "_g=v*A/rou/i\n",
    "g=_g*1000\n",
    "print(g)\n"
   ]
  },
  {
   "cell_type": "code",
   "execution_count": 7,
   "metadata": {},
   "outputs": [
    {
     "name": "stdout",
     "output_type": "stream",
     "text": [
      "0.029241000000000003\n",
      "85.52631578947368\n"
     ]
    }
   ],
   "source": [
    "A=2000\n",
    "I=1900\n",
    "V=13\n",
    "rou=160 #ohm*mm\n",
    "\n",
    "\n",
    "c=3.42e-2 #nm^3/A*s\n",
    "n_efficiency=0.9\n",
    "\n",
    "fr=n_efficiency*c*I/A\n",
    "print(fr)\n",
    "\n",
    "g=1000*V/I/rou*A\n",
    "print(g)"
   ]
  },
  {
   "cell_type": "code",
   "execution_count": null,
   "metadata": {},
   "outputs": [],
   "source": []
  },
  {
   "cell_type": "code",
   "execution_count": 24,
   "metadata": {},
   "outputs": [
    {
     "name": "stdout",
     "output_type": "stream",
     "text": [
      "0.22999999999999998\n",
      "32.21740111060262\n"
     ]
    }
   ],
   "source": [
    "# 2\n",
    "gap=0.04 # mm\n",
    "h=6 #mm\n",
    "Tm=1500 #c\n",
    "wire_diameter=0.15  #mm\n",
    "I=9 # amp\n",
    "\n",
    "\n",
    "K=664 #常数\n",
    "\n",
    "Wkef=wire_diameter+gap*2\n",
    "print(Wkef)\n",
    "# Mrr=Vf*h*Wkef\n",
    "Mrr=K*I/Tm**1.23\n",
    "_Vf=Mrr/h/Wkef # mm/sec\n",
    "Vf=60*_Vf  #mm/min\n",
    "print(Vf)\n"
   ]
  },
  {
   "cell_type": "code",
   "execution_count": 3,
   "metadata": {},
   "outputs": [
    {
     "name": "stdout",
     "output_type": "stream",
     "text": [
      "32.21740111060262\n"
     ]
    }
   ],
   "source": [
    "wire_d=0.15\n",
    "gap=0.04\n",
    "Tm=1500\n",
    "K=664\n",
    "I=9\n",
    "h=6\n",
    "\n",
    "# kref\n",
    "kref=wire_d+gap*2\n",
    "# feed\n",
    "Mrr=K*I/Tm**1.23\n",
    "vf=Mrr/h/kref\n",
    "print(vf*60)\n",
    "\n"
   ]
  }
 ],
 "metadata": {
  "kernelspec": {
   "display_name": "Python 3",
   "language": "python",
   "name": "python3"
  },
  "language_info": {
   "codemirror_mode": {
    "name": "ipython",
    "version": 3
   },
   "file_extension": ".py",
   "mimetype": "text/x-python",
   "name": "python",
   "nbconvert_exporter": "python",
   "pygments_lexer": "ipython3",
   "version": "3.12.6"
  }
 },
 "nbformat": 4,
 "nbformat_minor": 2
}
