{
 "cells": [
  {
   "cell_type": "code",
   "execution_count": 2,
   "metadata": {},
   "outputs": [
    {
     "name": "stdout",
     "output_type": "stream",
     "text": [
      "4.41 20.0\n"
     ]
    }
   ],
   "source": [
    "# 15\n",
    "\n",
    "from sympy import pi\n",
    "# v1*s1=v2*s2\n",
    "r1=21\n",
    "ratio=1.05\n",
    "v1=4\n",
    "\n",
    "r2=r1/ratio\n",
    "\n",
    "s1=r1/2*r1/2\n",
    "s2=r2*r2/4\n",
    "v2=s1*v1/s2\n",
    "print(v2,r2)\n"
   ]
  },
  {
   "cell_type": "code",
   "execution_count": 3,
   "metadata": {},
   "outputs": [
    {
     "name": "stdout",
     "output_type": "stream",
     "text": [
      "1.3\n"
     ]
    }
   ],
   "source": [
    "# 16\n",
    "Sr=1.3\n",
    "Do=39\n",
    "Di=37\n",
    "\n",
    "Tf=Sr*(Do-Di)/2\n",
    "print(Tf)"
   ]
  }
 ],
 "metadata": {
  "kernelspec": {
   "display_name": "Python 3",
   "language": "python",
   "name": "python3"
  },
  "language_info": {
   "codemirror_mode": {
    "name": "ipython",
    "version": 3
   },
   "file_extension": ".py",
   "mimetype": "text/x-python",
   "name": "python",
   "nbconvert_exporter": "python",
   "pygments_lexer": "ipython3",
   "version": "3.12.6"
  }
 },
 "nbformat": 4,
 "nbformat_minor": 2
}
