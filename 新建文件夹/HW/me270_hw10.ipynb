{
 "cells": [
  {
   "cell_type": "code",
   "execution_count": null,
   "metadata": {},
   "outputs": [
    {
     "name": "stdout",
     "output_type": "stream",
     "text": [
      "25.378\n",
      "119883.1756609865\n"
     ]
    }
   ],
   "source": [
    "# 6 注意单位\n",
    "from numpy import pi\n",
    "d_in=25 #mm\n",
    "d_out=35 #mm\n",
    "thick=3 #mm\n",
    "allowance=0.063 \n",
    "sheer_strength=212 #Mpa\n",
    "C_recommend=allowance*thick\n",
    "d_open=d_in+2*C_recommend\n",
    "print(d_open)\n",
    "F=sheer_strength*thick*(pi*(d_in+d_out))/1000\n",
    "print(F)"
   ]
  },
  {
   "cell_type": "code",
   "execution_count": 5,
   "metadata": {},
   "outputs": [
    {
     "name": "stdout",
     "output_type": "stream",
     "text": [
      "54.84955592153876\n"
     ]
    }
   ],
   "source": [
    "# 7\n",
    "L=28\n",
    "R=10\n",
    "thick=4\n",
    "# 10>2*4\n",
    "K_Ba=0.5\n",
    "\n",
    "\n",
    "Ab=2*pi*90*(R+K_Ba*thick)/360\n",
    "L2=Ab+2*(L-R)\n",
    "print(L2)"
   ]
  },
  {
   "cell_type": "code",
   "execution_count": 4,
   "metadata": {},
   "outputs": [
    {
     "name": "stdout",
     "output_type": "stream",
     "text": [
      "54.84955592153876\n"
     ]
    }
   ],
   "source": [
    "l=28\n",
    "r=10\n",
    "thick=4\n",
    "k=0.5\n",
    "ab=2*pi/360*90*(r+k*thick)\n",
    "l=2*(l-r)+ab \n",
    "print(l)\n"
   ]
  },
  {
   "cell_type": "code",
   "execution_count": 3,
   "metadata": {},
   "outputs": [
    {
     "name": "stdout",
     "output_type": "stream",
     "text": [
      "23.42\n",
      "119261.14031557573\n"
     ]
    }
   ],
   "source": [
    "from math import pi\n",
    "d_in=23\n",
    "d_out=34\n",
    "thick=3\n",
    "allowance=0.07\n",
    "\n",
    "\n",
    "c=thick*allowance\n",
    "dopoen=d_in+2*c\n",
    "print(dopoen)\n",
    "\n",
    "s=222\n",
    "\n",
    "f=s*thick*pi*(d_in+d_out)\n",
    "print(f)"
   ]
  }
 ],
 "metadata": {
  "kernelspec": {
   "display_name": "Python 3",
   "language": "python",
   "name": "python3"
  },
  "language_info": {
   "codemirror_mode": {
    "name": "ipython",
    "version": 3
   },
   "file_extension": ".py",
   "mimetype": "text/x-python",
   "name": "python",
   "nbconvert_exporter": "python",
   "pygments_lexer": "ipython3",
   "version": "3.12.6"
  }
 },
 "nbformat": 4,
 "nbformat_minor": 2
}
