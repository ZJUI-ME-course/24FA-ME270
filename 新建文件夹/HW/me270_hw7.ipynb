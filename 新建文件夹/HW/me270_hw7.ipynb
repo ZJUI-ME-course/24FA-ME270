{
 "cells": [
  {
   "cell_type": "code",
   "execution_count": 8,
   "metadata": {},
   "outputs": [
    {
     "name": "stdout",
     "output_type": "stream",
     "text": [
      "4.949999999999999\n",
      "1.8249999999999993\n",
      "3.2749999999999986\n",
      "4.550000000000001\n",
      "0.6499999999999986\n",
      "0.22500000000000142\n",
      "0.10000000000000142\n",
      "[4.95, 1.83, 3.28, 4.55, 0.65, 0.23, 0.1]\n"
     ]
    }
   ],
   "source": [
    "# 3\n",
    "y1=1/2*(17.9+17.6)\n",
    "y2=1/2*(20.3+20.2)\n",
    "y3=1/2*(15+14.8)\n",
    "y4=1/2*(18+17.3)\n",
    "y5=1/2*(17.5+17.7)\n",
    "y6=1/2*(21.5+20.9)\n",
    "y7=1/2*(24.2+23.1)\n",
    "y8=1/2*(27.6+28.2)\n",
    "\n",
    "\n",
    "\n",
    "e1=((y5+y6+y7+y8)/4-(y1+y2+y3+y4)/4)\n",
    "print(e1)\n",
    "\n",
    "e2=((y3+y4+y7+y8)/4-(y1+y2+y5+y6)/4)\n",
    "print(e2)\n",
    "\n",
    "e3=((y2+y4+y6+y8)/4-(y1+y3+y5+y7)/4)\n",
    "print(e3)\n",
    "\n",
    "\n",
    "e12=((y1+y2+y7+y8)/4-(y3+y4+y5+y6)/4)\n",
    "print(e12)\n",
    "\n",
    "\n",
    "e13=((y1+y3+y6+y8)/4-(y2+y4+y5+y7)/4)\n",
    "print(e13)\n",
    "\n",
    "e23=((y1+y4+y5+y8)/4-(y2+y3+y6+y7)/4)\n",
    "print(e23)\n",
    "\n",
    "\n",
    "e123=((y2+y3+y5+y8)/4-(y1+y4+y6+y7)/4)\n",
    "print(e123)\n",
    "\n",
    "\n",
    "\n",
    "\n",
    "# def round_to_hundredths(numbers):\n",
    "#     return [round(round(num, 3),2) for num in numbers]\n",
    "\n",
    "def round_up(numbers, decimals=2):\n",
    "    return [int(num * 10 ** decimals + 0.5) / 10 ** decimals for num in numbers]\n",
    "\n",
    "\n",
    "# print(round_up([1.825, 2.455, 3.975]))  # 输出: [1.83, 2.46, 3.98]\n",
    "\n",
    "\n",
    "# 测试\n",
    "# print(round_up(1.825))  # 输出: 1.83\n",
    "# print(round_up(1.835))  # 输出: 1.84\n",
    "\n",
    "number=[e1,e2,e3,e12,e13,e23,e123]\n",
    "result = round_up(round_up(number,3),2)\n",
    "print(result)\n",
    "# x=round(1.8249999999999993,3)\n",
    "# print(x)\n",
    "# print(round(x,2))\n",
    "# print(\"原始数字:\", result)\n",
    "\n",
    "# num = 1.825\n",
    "# rounded = round(num, )\n",
    "# print(rounded)"
   ]
  },
  {
   "cell_type": "code",
   "execution_count": 6,
   "metadata": {},
   "outputs": [
    {
     "name": "stdout",
     "output_type": "stream",
     "text": [
      "0.3024999999999988\n",
      "0.40311288741492685\n"
     ]
    }
   ],
   "source": [
    "# 4\n",
    "# 均值指的是每一次实验两个差\n",
    "from math import sqrt\n",
    "s1=((17.9-17.6)/2)\n",
    "s2=((20.3-20.2)/2)\n",
    "s3=((15-14.8)/2)\n",
    "s4=((18-17.3)/2)\n",
    "s5=((17.5-17.7)/2)\n",
    "s6=((21.5-20.9)/2)\n",
    "s7=((24.2-23.1)/2)\n",
    "s8=((27.6-28.2)/2)\n",
    "\n",
    "print(sqrt(1/8*(2*(s1**2+s2**2+s3**2+s4**2+s5**2+s6**2+s7**2+s8**2))))\n",
    "\n",
    "print('比2*sigma绝对值大的E有4个，所以这个空是4')\n",
    "\n"
   ]
  },
  {
   "cell_type": "code",
   "execution_count": 11,
   "metadata": {},
   "outputs": [
    {
     "name": "stdout",
     "output_type": "stream",
     "text": [
      "20.1125\n",
      "14.637500000000005\n"
     ]
    }
   ],
   "source": [
    "# 5\n",
    "# plant truth计算方式\n",
    "# 因为前四个E比2*sigma绝对值大,所以只要前四个计算plant truth\n",
    "\n",
    "y_=1/8*(y1+y2+y3+y4+y5+y6+y7+y8)\n",
    "print(y_)\n",
    "y_3=y_+e1/2*(-1)+e2/2*(1)+e3/2*(-1)+e12/2*(-1)\n",
    "print(y_3)\n",
    "\n"
   ]
  }
 ],
 "metadata": {
  "kernelspec": {
   "display_name": "Python 3",
   "language": "python",
   "name": "python3"
  },
  "language_info": {
   "codemirror_mode": {
    "name": "ipython",
    "version": 3
   },
   "file_extension": ".py",
   "mimetype": "text/x-python",
   "name": "python",
   "nbconvert_exporter": "python",
   "pygments_lexer": "ipython3",
   "version": "3.12.6"
  }
 },
 "nbformat": 4,
 "nbformat_minor": 2
}
