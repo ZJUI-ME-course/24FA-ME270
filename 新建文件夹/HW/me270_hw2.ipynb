{
 "cells": [
  {
   "cell_type": "code",
   "execution_count": 34,
   "metadata": {},
   "outputs": [
    {
     "name": "stdout",
     "output_type": "stream",
     "text": [
      "3110.1767270538953\n",
      "211.49201743966486\n"
     ]
    }
   ],
   "source": [
    "# 17\n",
    "\n",
    "from math import pi\n",
    "n=100 #rpm\n",
    "# l=12 # cm\n",
    "\n",
    "d1=99 #mm\n",
    "d2=95 #mm\n",
    "\n",
    "_f=3.4 #mm/rev\n",
    "\n",
    "v=pi*d1/10*n\n",
    "print(v)\n",
    "\n",
    "_d=(d1-d2)/2\n",
    "\n",
    "d=_d/10 #cm\n",
    "f=_f/10 ## cm/rev\n",
    "Mrr=v*d*f\n",
    "print(Mrr)\n",
    "\n",
    "\n"
   ]
  },
  {
   "cell_type": "code",
   "execution_count": 35,
   "metadata": {},
   "outputs": [
    {
     "name": "stdout",
     "output_type": "stream",
     "text": [
      "11.111111111111112\n"
     ]
    }
   ],
   "source": [
    "# 18\n",
    "n=150 #rpm\n",
    "l=10 #cm\n",
    "_f=3.6 #mm/rev\n",
    "f=_f/10\n",
    "\n",
    "d1=100\n",
    "d2=96\n",
    "\n",
    "v=pi*d1/10*n\n",
    "_t=(d1/10)*pi*l/f/v\n",
    "\n",
    "# _t=l/f/n\n",
    "t=_t*60\n",
    "print(t)\n"
   ]
  },
  {
   "cell_type": "code",
   "execution_count": 36,
   "metadata": {},
   "outputs": [
    {
     "name": "stdout",
     "output_type": "stream",
     "text": [
      "264365.0217995811\n",
      "559831.8108697011\n",
      "0.4722222222222223\n"
     ]
    }
   ],
   "source": [
    "# 19\n",
    "n=250\n",
    "l=14\n",
    "d1=99 #mm\n",
    "d2=95 \n",
    "_f=3.6\n",
    "fd=3400\n",
    "\n",
    "\n",
    "d=(d1-d2)/2 #cm\n",
    "f=_f\n",
    "\n",
    "v=(d1/1000)*n*pi #m/min\n",
    "pc=fd*v # n*m/min # J/min\n",
    "print(pc) \n",
    "\n",
    "\n",
    "\n",
    "v=(d1)*n*pi #mm/min\n",
    "Mrr=v*d*f # \n",
    "# 切削速度 mm/min\n",
    "# 切削深度 mm\n",
    "# 进给量 mm/rev\n",
    "print(Mrr)\n",
    "\n",
    "\n",
    "print(pc/Mrr) # J/mm*3\n",
    "\n",
    "\n"
   ]
  },
  {
   "cell_type": "code",
   "execution_count": 45,
   "metadata": {},
   "outputs": [
    {
     "name": "stdout",
     "output_type": "stream",
     "text": [
      "235.429114530508\n"
     ]
    }
   ],
   "source": [
    "# 20\n",
    "n1=1500 #rpm/min\n",
    "d1=26 #mm\n",
    "d2=24 #mm\n",
    "t1=4 #min\n",
    "p1=50\n",
    "p2=1400\n",
    "k=3\n",
    "n2=500\n",
    "\n",
    "n3=900\n",
    "\n",
    "\n",
    "\n",
    "t2=t1*k\n",
    "\n",
    "v1=pi*d1*n1 # mm/min\n",
    "v2=pi*d1*n2 # mm/min\n",
    "\n",
    "tp1=t1*p1\n",
    "tp2=t2*p2\n",
    "\n",
    "\n",
    "\n",
    "from sympy import solve as o \n",
    "from sympy import S\n",
    "x=S('x')\n",
    "q1=v1*tp1**x-v2*tp2**x\n",
    "x=o(q1,x)[0]\n",
    "\n",
    "v3=pi*d1*n3 # mm/min\n",
    "\n",
    "# q2=v1*tp1**x-v3*tp3**x\n",
    "\n",
    "t3=n2*t2/n3\n",
    "tp3=(v1/v3)**(1/x)*tp1\n",
    "p3=tp3/t3\n",
    "print(p3)\n",
    "\n"
   ]
  },
  {
   "cell_type": "code",
   "execution_count": null,
   "metadata": {},
   "outputs": [],
   "source": [
    "# 26\n",
    "\n",
    "\n"
   ]
  }
 ],
 "metadata": {
  "kernelspec": {
   "display_name": "Python 3",
   "language": "python",
   "name": "python3"
  },
  "language_info": {
   "codemirror_mode": {
    "name": "ipython",
    "version": 3
   },
   "file_extension": ".py",
   "mimetype": "text/x-python",
   "name": "python",
   "nbconvert_exporter": "python",
   "pygments_lexer": "ipython3",
   "version": "3.12.6"
  }
 },
 "nbformat": 4,
 "nbformat_minor": 2
}
